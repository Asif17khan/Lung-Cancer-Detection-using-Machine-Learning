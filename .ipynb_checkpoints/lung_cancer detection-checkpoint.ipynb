{
 "cells": [
  {
   "cell_type": "code",
   "execution_count": 3,
   "id": "0cd143b3",
   "metadata": {},
   "outputs": [],
   "source": [
    "import warnings\n",
    "warnings.filterwarnings('ignore')\n",
    "import pandas as pd\n",
    "import numpy as np\n",
    "import matplotlib.pyplot as plt\n",
    "import seaborn as sns\n",
    "from sklearn.tree import DecisionTreeClassifier"
   ]
  },
  {
   "cell_type": "code",
   "execution_count": 4,
   "id": "ce0b4635",
   "metadata": {},
   "outputs": [],
   "source": [
    "from pandas.plotting import scatter_matrix\n",
    "from matplotlib import pyplot\n",
    "from sklearn.model_selection import train_test_split\n",
    "from sklearn.preprocessing import StandardScaler\n",
    "from sklearn.neighbors import KNeighborsClassifier\n",
    "from sklearn.metrics import confusion_matrix\n",
    "from sklearn.metrics import f1_score\n",
    "from sklearn.metrics import accuracy_score\n",
    "from sklearn import tree\n"
   ]
  },
  {
   "cell_type": "code",
   "execution_count": 5,
   "id": "cd85ba64",
   "metadata": {},
   "outputs": [
    {
     "name": "stdout",
     "output_type": "stream",
     "text": [
      "Dataset\n",
      "59\n",
      "      Name      Surname  Age  Smokes  AirQ  Alcohol  Result\n",
      "0     John         Wick   35       3     5        4       1\n",
      "1  jackson  Constantine   27      20     2        5       1\n",
      "2   Camela     Anderson   30       0     5        2       0\n",
      "3     Alex       Telles   28       0     8        1       0\n",
      "4    Diego     Maradona   68       4     5        6       1\n"
     ]
    }
   ],
   "source": [
    "print(\"Dataset\")\n",
    "dataset=pd.read_csv(r'C:\\Users\\Asif Khan\\Documents\\pythonproject\\Lung Cancer Detection\\dataset.csv')\n",
    "print(len(dataset))\n",
    "print(dataset.head())\n"
   ]
  },
  {
   "cell_type": "code",
   "execution_count": 6,
   "id": "eb63e0bb",
   "metadata": {},
   "outputs": [
    {
     "data": {
      "text/plain": [
       "(59, 7)"
      ]
     },
     "execution_count": 6,
     "metadata": {},
     "output_type": "execute_result"
    }
   ],
   "source": [
    "dataset.shape"
   ]
  },
  {
   "cell_type": "code",
   "execution_count": 7,
   "id": "d11ba328",
   "metadata": {},
   "outputs": [
    {
     "data": {
      "text/html": [
       "<div>\n",
       "<style scoped>\n",
       "    .dataframe tbody tr th:only-of-type {\n",
       "        vertical-align: middle;\n",
       "    }\n",
       "\n",
       "    .dataframe tbody tr th {\n",
       "        vertical-align: top;\n",
       "    }\n",
       "\n",
       "    .dataframe thead th {\n",
       "        text-align: right;\n",
       "    }\n",
       "</style>\n",
       "<table border=\"1\" class=\"dataframe\">\n",
       "  <thead>\n",
       "    <tr style=\"text-align: right;\">\n",
       "      <th></th>\n",
       "      <th>Age</th>\n",
       "      <th>Smokes</th>\n",
       "      <th>AirQ</th>\n",
       "      <th>Alcohol</th>\n",
       "      <th>Result</th>\n",
       "    </tr>\n",
       "  </thead>\n",
       "  <tbody>\n",
       "    <tr>\n",
       "      <th>count</th>\n",
       "      <td>59.000000</td>\n",
       "      <td>59.000000</td>\n",
       "      <td>59.000000</td>\n",
       "      <td>59.000000</td>\n",
       "      <td>59.000000</td>\n",
       "    </tr>\n",
       "    <tr>\n",
       "      <th>mean</th>\n",
       "      <td>43.254237</td>\n",
       "      <td>15.152542</td>\n",
       "      <td>5.203390</td>\n",
       "      <td>3.237288</td>\n",
       "      <td>0.440678</td>\n",
       "    </tr>\n",
       "    <tr>\n",
       "      <th>std</th>\n",
       "      <td>16.948800</td>\n",
       "      <td>8.010367</td>\n",
       "      <td>2.461984</td>\n",
       "      <td>2.380517</td>\n",
       "      <td>0.500730</td>\n",
       "    </tr>\n",
       "    <tr>\n",
       "      <th>min</th>\n",
       "      <td>18.000000</td>\n",
       "      <td>0.000000</td>\n",
       "      <td>1.000000</td>\n",
       "      <td>0.000000</td>\n",
       "      <td>0.000000</td>\n",
       "    </tr>\n",
       "    <tr>\n",
       "      <th>25%</th>\n",
       "      <td>29.000000</td>\n",
       "      <td>10.000000</td>\n",
       "      <td>3.000000</td>\n",
       "      <td>1.000000</td>\n",
       "      <td>0.000000</td>\n",
       "    </tr>\n",
       "    <tr>\n",
       "      <th>50%</th>\n",
       "      <td>39.000000</td>\n",
       "      <td>15.000000</td>\n",
       "      <td>5.000000</td>\n",
       "      <td>3.000000</td>\n",
       "      <td>0.000000</td>\n",
       "    </tr>\n",
       "    <tr>\n",
       "      <th>75%</th>\n",
       "      <td>55.500000</td>\n",
       "      <td>20.000000</td>\n",
       "      <td>7.500000</td>\n",
       "      <td>5.000000</td>\n",
       "      <td>1.000000</td>\n",
       "    </tr>\n",
       "    <tr>\n",
       "      <th>max</th>\n",
       "      <td>80.000000</td>\n",
       "      <td>34.000000</td>\n",
       "      <td>10.000000</td>\n",
       "      <td>8.000000</td>\n",
       "      <td>1.000000</td>\n",
       "    </tr>\n",
       "  </tbody>\n",
       "</table>\n",
       "</div>"
      ],
      "text/plain": [
       "             Age     Smokes       AirQ    Alcohol     Result\n",
       "count  59.000000  59.000000  59.000000  59.000000  59.000000\n",
       "mean   43.254237  15.152542   5.203390   3.237288   0.440678\n",
       "std    16.948800   8.010367   2.461984   2.380517   0.500730\n",
       "min    18.000000   0.000000   1.000000   0.000000   0.000000\n",
       "25%    29.000000  10.000000   3.000000   1.000000   0.000000\n",
       "50%    39.000000  15.000000   5.000000   3.000000   0.000000\n",
       "75%    55.500000  20.000000   7.500000   5.000000   1.000000\n",
       "max    80.000000  34.000000  10.000000   8.000000   1.000000"
      ]
     },
     "execution_count": 7,
     "metadata": {},
     "output_type": "execute_result"
    }
   ],
   "source": [
    "dataset.describe()"
   ]
  },
  {
   "cell_type": "code",
   "execution_count": 8,
   "id": "5f488d93",
   "metadata": {},
   "outputs": [
    {
     "name": "stdout",
     "output_type": "stream",
     "text": [
      "<class 'pandas.core.frame.DataFrame'>\n",
      "RangeIndex: 59 entries, 0 to 58\n",
      "Data columns (total 7 columns):\n",
      " #   Column   Non-Null Count  Dtype \n",
      "---  ------   --------------  ----- \n",
      " 0   Name     59 non-null     object\n",
      " 1   Surname  59 non-null     object\n",
      " 2   Age      59 non-null     int64 \n",
      " 3   Smokes   59 non-null     int64 \n",
      " 4   AirQ     59 non-null     int64 \n",
      " 5   Alcohol  59 non-null     int64 \n",
      " 6   Result   59 non-null     int64 \n",
      "dtypes: int64(5), object(2)\n",
      "memory usage: 3.4+ KB\n"
     ]
    }
   ],
   "source": [
    "dataset.info()"
   ]
  },
  {
   "cell_type": "code",
   "execution_count": 9,
   "id": "2cdcdc29",
   "metadata": {},
   "outputs": [
    {
     "data": {
      "text/html": [
       "<div>\n",
       "<style scoped>\n",
       "    .dataframe tbody tr th:only-of-type {\n",
       "        vertical-align: middle;\n",
       "    }\n",
       "\n",
       "    .dataframe tbody tr th {\n",
       "        vertical-align: top;\n",
       "    }\n",
       "\n",
       "    .dataframe thead th {\n",
       "        text-align: right;\n",
       "    }\n",
       "</style>\n",
       "<table border=\"1\" class=\"dataframe\">\n",
       "  <thead>\n",
       "    <tr style=\"text-align: right;\">\n",
       "      <th></th>\n",
       "      <th>Name</th>\n",
       "      <th>Surname</th>\n",
       "      <th>Age</th>\n",
       "      <th>Smokes</th>\n",
       "      <th>AirQ</th>\n",
       "      <th>Alcohol</th>\n",
       "      <th>Result</th>\n",
       "    </tr>\n",
       "  </thead>\n",
       "  <tbody>\n",
       "    <tr>\n",
       "      <th>0</th>\n",
       "      <td>Katharine</td>\n",
       "      <td>Hepburn</td>\n",
       "      <td>62</td>\n",
       "      <td>20</td>\n",
       "      <td>5</td>\n",
       "      <td>2</td>\n",
       "      <td>0</td>\n",
       "    </tr>\n",
       "  </tbody>\n",
       "</table>\n",
       "</div>"
      ],
      "text/plain": [
       "         Name  Surname  Age  Smokes  AirQ  Alcohol  Result\n",
       "0  Katharine   Hepburn   62      20     5        2       0"
      ]
     },
     "execution_count": 9,
     "metadata": {},
     "output_type": "execute_result"
    }
   ],
   "source": [
    "dataset.mode()"
   ]
  },
  {
   "cell_type": "code",
   "execution_count": 10,
   "id": "412d818d",
   "metadata": {},
   "outputs": [
    {
     "data": {
      "text/html": [
       "<div>\n",
       "<style scoped>\n",
       "    .dataframe tbody tr th:only-of-type {\n",
       "        vertical-align: middle;\n",
       "    }\n",
       "\n",
       "    .dataframe tbody tr th {\n",
       "        vertical-align: top;\n",
       "    }\n",
       "\n",
       "    .dataframe thead th {\n",
       "        text-align: right;\n",
       "    }\n",
       "</style>\n",
       "<table border=\"1\" class=\"dataframe\">\n",
       "  <thead>\n",
       "    <tr style=\"text-align: right;\">\n",
       "      <th></th>\n",
       "      <th>Smokes</th>\n",
       "      <th>AirQ</th>\n",
       "      <th>Alcohol</th>\n",
       "    </tr>\n",
       "  </thead>\n",
       "  <tbody>\n",
       "    <tr>\n",
       "      <th>55</th>\n",
       "      <td>20</td>\n",
       "      <td>5</td>\n",
       "      <td>4</td>\n",
       "    </tr>\n",
       "    <tr>\n",
       "      <th>56</th>\n",
       "      <td>15</td>\n",
       "      <td>3</td>\n",
       "      <td>5</td>\n",
       "    </tr>\n",
       "    <tr>\n",
       "      <th>57</th>\n",
       "      <td>30</td>\n",
       "      <td>3</td>\n",
       "      <td>8</td>\n",
       "    </tr>\n",
       "    <tr>\n",
       "      <th>58</th>\n",
       "      <td>25</td>\n",
       "      <td>9</td>\n",
       "      <td>0</td>\n",
       "    </tr>\n",
       "  </tbody>\n",
       "</table>\n",
       "</div>"
      ],
      "text/plain": [
       "    Smokes  AirQ  Alcohol\n",
       "55      20     5        4\n",
       "56      15     3        5\n",
       "57      30     3        8\n",
       "58      25     9        0"
      ]
     },
     "execution_count": 10,
     "metadata": {},
     "output_type": "execute_result"
    }
   ],
   "source": [
    "dataset.iloc[55:59,3:6]"
   ]
  },
  {
   "cell_type": "code",
   "execution_count": 11,
   "id": "60619088",
   "metadata": {},
   "outputs": [
    {
     "data": {
      "image/png": "[encoded data removed]",
      "text/plain": [
       "<Figure size 432x288 with 1 Axes>"
      ]
     },
     "metadata": {
      "needs_background": "light"
     },
     "output_type": "display_data"
    }
   ],
   "source": [
    "sns.boxplot(dataset['Age']);"
   ]
  },
  {
   "cell_type": "code",
   "execution_count": null,
   "id": "4b2c3c1b",
   "metadata": {},
   "outputs": [],
   "source": []
  },
  {
   "cell_type": "markdown",
   "id": "bcf84e9f",
   "metadata": {},
   "source": [
    "# Smokes Consumption"
   ]
  },
  {
   "cell_type": "code",
   "execution_count": 13,
   "id": "3afdef00",
   "metadata": {},
   "outputs": [
    {
     "data": {
      "text/plain": [
       "{'bodies': [<matplotlib.collections.PolyCollection at 0x2175c5e3520>],\n",
       " 'cmaxes': <matplotlib.collections.LineCollection at 0x2175c5e3490>,\n",
       " 'cmins': <matplotlib.collections.LineCollection at 0x2175c5e3a00>,\n",
       " 'cbars': <matplotlib.collections.LineCollection at 0x2175c5e3d30>,\n",
       " 'cmedians': <matplotlib.collections.LineCollection at 0x2175c5fc0a0>}"
      ]
     },
     "execution_count": 13,
     "metadata": {},
     "output_type": "execute_result"
    },
    {
     "data": {
      "image/png": "[encoded data removed]",
      "text/plain": [
       "<Figure size 432x288 with 1 Axes>"
      ]
     },
     "metadata": {
      "needs_background": "light"
     },
     "output_type": "display_data"
    }
   ],
   "source": [
    "plt.violinplot(dataset['Smokes'],showmedians=True)"
   ]
  },
  {
   "cell_type": "code",
   "execution_count": null,
   "id": "dff8b947",
   "metadata": {},
   "outputs": [],
   "source": []
  },
  {
   "cell_type": "markdown",
   "id": "6fb0d1fd",
   "metadata": {},
   "source": [
    "# Alcohol Consumption"
   ]
  },
  {
   "cell_type": "code",
   "execution_count": 14,
   "id": "9e382dee",
   "metadata": {},
   "outputs": [
    {
     "data": {
      "text/plain": [
       "{'bodies': [<matplotlib.collections.PolyCollection at 0x2175c66d6a0>],\n",
       " 'cmaxes': <matplotlib.collections.LineCollection at 0x2175c66d610>,\n",
       " 'cmins': <matplotlib.collections.LineCollection at 0x2175c66dbe0>,\n",
       " 'cbars': <matplotlib.collections.LineCollection at 0x2175c66df10>,\n",
       " 'cmedians': <matplotlib.collections.LineCollection at 0x2175c67e280>}"
      ]
     },
     "execution_count": 14,
     "metadata": {},
     "output_type": "execute_result"
    },
    {
     "data": {
      "image/png": "[encoded data removed]",
      "text/plain": [
       "<Figure size 432x288 with 1 Axes>"
      ]
     },
     "metadata": {
      "needs_background": "light"
     },
     "output_type": "display_data"
    }
   ],
   "source": [
    "plt.violinplot(dataset['Alcohol'],showmedians=True)"
   ]
  },
  {
   "cell_type": "markdown",
   "id": "327792f6",
   "metadata": {},
   "source": [
    "# unique values  (Unique ages in Age column of the dataset)"
   ]
  },
  {
   "cell_type": "code",
   "execution_count": 12,
   "id": "a0af497d",
   "metadata": {},
   "outputs": [
    {
     "name": "stdout",
     "output_type": "stream",
     "text": [
      "[35 27 30 28 68 34 58 22 45 52 33 18 25 39 42 19 62 73 55 44 77 21 37 40\n",
      " 36 56 47 26 59 50 69 63 31 53 75 80 51]\n"
     ]
    }
   ],
   "source": [
    "unique_age = dataset['Age'].unique()\n",
    "print(unique_age)"
   ]
  },
  {
   "cell_type": "markdown",
   "id": "f9c325bb",
   "metadata": {},
   "source": [
    "# Checking whether dataset has missing values"
   ]
  },
  {
   "cell_type": "code",
   "execution_count": null,
   "id": "ba733fbb",
   "metadata": {},
   "outputs": [],
   "source": []
  },
  {
   "cell_type": "code",
   "execution_count": 147,
   "id": "31fc109e",
   "metadata": {},
   "outputs": [
    {
     "data": {
      "text/plain": [
       "Name       0\n",
       "Surname    0\n",
       "Age        0\n",
       "Smokes     0\n",
       "AirQ       0\n",
       "Alcohol    0\n",
       "Result     0\n",
       "dtype: int64"
      ]
     },
     "execution_count": 147,
     "metadata": {},
     "output_type": "execute_result"
    }
   ],
   "source": [
    "dataset.isnull().sum()"
   ]
  },
  {
   "cell_type": "code",
   "execution_count": null,
   "id": "eaef7334",
   "metadata": {},
   "outputs": [],
   "source": []
  },
  {
   "cell_type": "code",
   "execution_count": 148,
   "id": "37af131b",
   "metadata": {},
   "outputs": [
    {
     "data": {
      "text/plain": [
       "0    33\n",
       "1    26\n",
       "Name: Result, dtype: int64"
      ]
     },
     "execution_count": 148,
     "metadata": {},
     "output_type": "execute_result"
    }
   ],
   "source": [
    "dataset['Result'].value_counts()"
   ]
  },
  {
   "cell_type": "code",
   "execution_count": 149,
   "id": "ef37eaa2",
   "metadata": {},
   "outputs": [
    {
     "data": {
      "image/png": "[encoded data removed]",
      "text/plain": [
       "<Figure size 432x288 with 25 Axes>"
      ]
     },
     "metadata": {
      "needs_background": "light"
     },
     "output_type": "display_data"
    }
   ],
   "source": [
    "scatter_matrix(dataset)\n",
    "pyplot.show()"
   ]
  },
  {
   "cell_type": "code",
   "execution_count": null,
   "id": "9f0e7f44",
   "metadata": {},
   "outputs": [],
   "source": []
  },
  {
   "cell_type": "code",
   "execution_count": 150,
   "id": "99753f4a",
   "metadata": {},
   "outputs": [],
   "source": [
    "A=dataset[dataset.Result==1]\n",
    "B=dataset[dataset.Result==0]"
   ]
  },
  {
   "cell_type": "code",
   "execution_count": null,
   "id": "2ff7b327",
   "metadata": {},
   "outputs": [],
   "source": []
  },
  {
   "cell_type": "code",
   "execution_count": 151,
   "id": "8ed68823",
   "metadata": {},
   "outputs": [
    {
     "data": {
      "image/png": "[encoded data removed]",
      "text/plain": [
       "<Figure size 432x288 with 1 Axes>"
      ]
     },
     "metadata": {
      "needs_background": "light"
     },
     "output_type": "display_data"
    }
   ],
   "source": [
    "plt.scatter(A.Age, A.Alcohol, color=\"red\", label=\"1\", alpha=1)\n",
    "plt.scatter(B.Age, B.Alcohol, color=\"Blue\", label=\"0\", alpha=1)\n",
    "plt.legend()\n",
    "plt.xlabel(\"Age\")\n",
    "plt.ylabel(\"Smokes\")\n",
    "plt.legend()\n",
    "plt.title(\"Smoke vs Age\")\n",
    "plt.show()"
   ]
  },
  {
   "cell_type": "code",
   "execution_count": 152,
   "id": "78c42057",
   "metadata": {},
   "outputs": [
    {
     "name": "stdout",
     "output_type": "stream",
     "text": [
      "   Smokes  AirQ  Alcohol\n",
      "0       3     5        4\n",
      "1      20     2        5\n",
      "2       0     5        2\n",
      "3       0     8        1\n",
      "4       4     5        6\n"
     ]
    }
   ],
   "source": [
    "x=dataset.iloc[0:5,3:6]\n",
    "print(x)"
   ]
  },
  {
   "cell_type": "code",
   "execution_count": 160,
   "id": "0613d986",
   "metadata": {},
   "outputs": [],
   "source": [
    "#split dataset\n",
    "x=dataset.iloc[:, 3:5]\n",
    "y=dataset.iloc[:,6]\n",
    "x_train, x_test, y_train, y_test = train_test_split(x,y, random_state=0, test_size=0.2)\n"
   ]
  },
  {
   "cell_type": "code",
   "execution_count": null,
   "id": "1540e05e",
   "metadata": {},
   "outputs": [],
   "source": []
  },
  {
   "cell_type": "markdown",
   "id": "2442f1f5",
   "metadata": {},
   "source": [
    "# Feature Scaling"
   ]
  },
  {
   "cell_type": "code",
   "execution_count": 161,
   "id": "0cc6a678",
   "metadata": {},
   "outputs": [],
   "source": [
    "sc_x=StandardScaler()\n",
    "x_train=sc_x.fit_transform(x_train)\n",
    "x_test=sc_x.transform(x_test)"
   ]
  },
  {
   "cell_type": "markdown",
   "id": "25ee2a49",
   "metadata": {},
   "source": [
    "# Using KNN algorithm"
   ]
  },
  {
   "cell_type": "code",
   "execution_count": 162,
   "id": "2e9a5c31",
   "metadata": {},
   "outputs": [
    {
     "name": "stdout",
     "output_type": "stream",
     "text": [
      "6.855654600401044\n"
     ]
    }
   ],
   "source": [
    "import math\n",
    "a=math.sqrt(len(y_train))\n",
    "print(a)"
   ]
  },
  {
   "cell_type": "code",
   "execution_count": 163,
   "id": "80257509",
   "metadata": {},
   "outputs": [],
   "source": [
    "#Defining a model\n",
    "classifier=KNeighborsClassifier(n_neighbors=5, p=2, metric='euclidean')"
   ]
  },
  {
   "cell_type": "code",
   "execution_count": 164,
   "id": "702ef142",
   "metadata": {},
   "outputs": [
    {
     "data": {
      "text/plain": [
       "KNeighborsClassifier(metric='euclidean')"
      ]
     },
     "execution_count": 164,
     "metadata": {},
     "output_type": "execute_result"
    }
   ],
   "source": [
    "#Fit model\n",
    "\n",
    "classifier.fit(x_train, y_train)"
   ]
  },
  {
   "cell_type": "code",
   "execution_count": null,
   "id": "9814d98d",
   "metadata": {},
   "outputs": [],
   "source": []
  },
  {
   "cell_type": "markdown",
   "id": "da384f04",
   "metadata": {},
   "source": [
    "# predict test_set result"
   ]
  },
  {
   "cell_type": "code",
   "execution_count": 165,
   "id": "f40d5836",
   "metadata": {},
   "outputs": [
    {
     "name": "stdout",
     "output_type": "stream",
     "text": [
      "[0 0 1 1 0 0 0 0 1 1 0 0]\n"
     ]
    }
   ],
   "source": [
    "y_pred=classifier.predict(x_test)\n",
    "print(y_pred)"
   ]
  },
  {
   "cell_type": "markdown",
   "id": "0aacd525",
   "metadata": {},
   "source": [
    "# Evaluate model"
   ]
  },
  {
   "cell_type": "markdown",
   "id": "2fd125ee",
   "metadata": {},
   "source": [
    "# Confusion Matrix"
   ]
  },
  {
   "cell_type": "code",
   "execution_count": 166,
   "id": "07695913",
   "metadata": {},
   "outputs": [
    {
     "name": "stdout",
     "output_type": "stream",
     "text": [
      "confusion matrix:\n",
      "[[7 1]\n",
      " [1 3]]\n"
     ]
    }
   ],
   "source": [
    "cm=confusion_matrix(y_test, y_pred)\n",
    "print(\"confusion matrix:\")\n",
    "print(cm)"
   ]
  },
  {
   "cell_type": "code",
   "execution_count": 167,
   "id": "d07da4a1",
   "metadata": {},
   "outputs": [
    {
     "name": "stdout",
     "output_type": "stream",
     "text": [
      "In confusion matrix:------\n",
      "Position 1.1 shows the patients dont have cancer, in this case=7\n",
      "Position 1.2 shows the number of patients who have higher risk of cancer, in this case=1\n",
      "Position 2.1 shows the Incorrect value, in this case=1\n",
      "position 2.2 shows the correct number of patients that have cancer, in this case=3\n"
     ]
    }
   ],
   "source": [
    "print(\"In confusion matrix:------\")\n",
    "print(\"Position 1.1 shows the patients dont have cancer, in this case=7\")\n",
    "print(\"Position 1.2 shows the number of patients who have higher risk of cancer, in this case=1\")\n",
    "print(\"Position 2.1 shows the Incorrect value, in this case=1\")\n",
    "print(\"position 2.2 shows the correct number of patients that have cancer, in this case=3\")\n"
   ]
  },
  {
   "cell_type": "code",
   "execution_count": 168,
   "id": "a774f2f0",
   "metadata": {},
   "outputs": [
    {
     "name": "stdout",
     "output_type": "stream",
     "text": [
      "F1 Score: 75.0\n",
      "Accuracy: 83.33333333333334\n"
     ]
    }
   ],
   "source": [
    "print('F1 Score:',(f1_score(y_test,y_pred))*100)\n",
    "\n",
    "print(\"Accuracy:\",(accuracy_score(y_test, y_pred))*100)\n"
   ]
  },
  {
   "cell_type": "markdown",
   "id": "d537d949",
   "metadata": {},
   "source": [
    "# Using Decission Tree"
   ]
  },
  {
   "cell_type": "code",
   "execution_count": 169,
   "id": "f07f09cf",
   "metadata": {},
   "outputs": [
    {
     "name": "stdout",
     "output_type": "stream",
     "text": [
      "Classification accuracy on train 95.74468085106383\n",
      "Classification accuracy on test 83.33333333333334\n"
     ]
    }
   ],
   "source": [
    "c = tree.DecisionTreeClassifier()\n",
    "c.fit(x_train, y_train)\n",
    "accu_train=np.sum(c.predict(x_train)==y_train)/float(y_train.size)\n",
    "accu_test=np.sum(c.predict(x_test)==y_test)/float(y_test.size)\n",
    "\n",
    "print('Classification accuracy on train',(accu_train)*100)\n",
    "print('Classification accuracy on test',(accu_test)*100)"
   ]
  },
  {
   "cell_type": "code",
   "execution_count": null,
   "id": "bd2038d6",
   "metadata": {},
   "outputs": [],
   "source": []
  },
  {
   "cell_type": "code",
   "execution_count": null,
   "id": "df8f6aec",
   "metadata": {},
   "outputs": [],
   "source": []
  },
  {
   "cell_type": "code",
   "execution_count": null,
   "id": "6e053876",
   "metadata": {},
   "outputs": [],
   "source": []
  }
 ],
 "metadata": {
  "kernelspec": {
   "display_name": "Python 3 (ipykernel)",
   "language": "python",
   "name": "python3"
  },
  "language_info": {
   "codemirror_mode": {
    "name": "ipython",
    "version": 3
   },
   "file_extension": ".py",
   "mimetype": "text/x-python",
   "name": "python",
   "nbconvert_exporter": "python",
   "pygments_lexer": "ipython3",
   "version": "3.9.7"
  }
 },
 "nbformat": 4,
 "nbformat_minor": 5
}
